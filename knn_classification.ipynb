{
  "metadata": {
    "kernelspec": {
      "language": "python",
      "display_name": "Python 3",
      "name": "python3"
    },
    "language_info": {
      "name": "python",
      "version": "3.7.12",
      "mimetype": "text/x-python",
      "codemirror_mode": {
        "name": "ipython",
        "version": 3
      },
      "pygments_lexer": "ipython3",
      "nbconvert_exporter": "python",
      "file_extension": ".py"
    },
    "colab": {
      "provenance": []
    }
  },
  "nbformat_minor": 0,
  "nbformat": 4,
  "cells": [
    {
      "cell_type": "code",
      "source": [
        "import numpy as np\n",
        "import pandas as pd\n",
        "import matplotlib.pyplot as plt"
      ],
      "metadata": {
        "_uuid": "8f2839f25d086af736a60e9eeb907d3b93b6e0e5",
        "_cell_guid": "b1076dfc-b9ad-4769-8c92-a6c4dae69d19",
        "execution": {
          "iopub.status.busy": "2022-09-20T04:50:54.236326Z",
          "iopub.execute_input": "2022-09-20T04:50:54.236842Z",
          "iopub.status.idle": "2022-09-20T04:50:54.265705Z",
          "shell.execute_reply.started": "2022-09-20T04:50:54.236738Z",
          "shell.execute_reply": "2022-09-20T04:50:54.264726Z"
        },
        "trusted": true,
        "id": "GG-CyOLvYw3j"
      },
      "execution_count": null,
      "outputs": []
    },
    {
      "cell_type": "code",
      "source": [
        "df=pd.read_csv('../input/pima-indians-diabetes-database/diabetes.csv')\n",
        "df.head()"
      ],
      "metadata": {
        "execution": {
          "iopub.status.busy": "2022-09-20T04:52:15.292000Z",
          "iopub.execute_input": "2022-09-20T04:52:15.292403Z",
          "iopub.status.idle": "2022-09-20T04:52:15.333544Z",
          "shell.execute_reply.started": "2022-09-20T04:52:15.292370Z",
          "shell.execute_reply": "2022-09-20T04:52:15.332611Z"
        },
        "trusted": true,
        "id": "fbYL0B0pYw3l",
        "outputId": "9edd6abc-2d90-4125-8944-80a9e7dfefbc"
      },
      "execution_count": null,
      "outputs": [
        {
          "execution_count": 2,
          "output_type": "execute_result",
          "data": {
            "text/plain": "   Pregnancies  Glucose  BloodPressure  SkinThickness  Insulin   BMI  \\\n0            6      148             72             35        0  33.6   \n1            1       85             66             29        0  26.6   \n2            8      183             64              0        0  23.3   \n3            1       89             66             23       94  28.1   \n4            0      137             40             35      168  43.1   \n\n   DiabetesPedigreeFunction  Age  Outcome  \n0                     0.627   50        1  \n1                     0.351   31        0  \n2                     0.672   32        1  \n3                     0.167   21        0  \n4                     2.288   33        1  ",
            "text/html": "<div>\n<style scoped>\n    .dataframe tbody tr th:only-of-type {\n        vertical-align: middle;\n    }\n\n    .dataframe tbody tr th {\n        vertical-align: top;\n    }\n\n    .dataframe thead th {\n        text-align: right;\n    }\n</style>\n<table border=\"1\" class=\"dataframe\">\n  <thead>\n    <tr style=\"text-align: right;\">\n      <th></th>\n      <th>Pregnancies</th>\n      <th>Glucose</th>\n      <th>BloodPressure</th>\n      <th>SkinThickness</th>\n      <th>Insulin</th>\n      <th>BMI</th>\n      <th>DiabetesPedigreeFunction</th>\n      <th>Age</th>\n      <th>Outcome</th>\n    </tr>\n  </thead>\n  <tbody>\n    <tr>\n      <th>0</th>\n      <td>6</td>\n      <td>148</td>\n      <td>72</td>\n      <td>35</td>\n      <td>0</td>\n      <td>33.6</td>\n      <td>0.627</td>\n      <td>50</td>\n      <td>1</td>\n    </tr>\n    <tr>\n      <th>1</th>\n      <td>1</td>\n      <td>85</td>\n      <td>66</td>\n      <td>29</td>\n      <td>0</td>\n      <td>26.6</td>\n      <td>0.351</td>\n      <td>31</td>\n      <td>0</td>\n    </tr>\n    <tr>\n      <th>2</th>\n      <td>8</td>\n      <td>183</td>\n      <td>64</td>\n      <td>0</td>\n      <td>0</td>\n      <td>23.3</td>\n      <td>0.672</td>\n      <td>32</td>\n      <td>1</td>\n    </tr>\n    <tr>\n      <th>3</th>\n      <td>1</td>\n      <td>89</td>\n      <td>66</td>\n      <td>23</td>\n      <td>94</td>\n      <td>28.1</td>\n      <td>0.167</td>\n      <td>21</td>\n      <td>0</td>\n    </tr>\n    <tr>\n      <th>4</th>\n      <td>0</td>\n      <td>137</td>\n      <td>40</td>\n      <td>35</td>\n      <td>168</td>\n      <td>43.1</td>\n      <td>2.288</td>\n      <td>33</td>\n      <td>1</td>\n    </tr>\n  </tbody>\n</table>\n</div>"
          },
          "metadata": {}
        }
      ]
    },
    {
      "cell_type": "markdown",
      "source": [
        "\n",
        "from sklearn.metrics import f1_score\n",
        "from sklearn.metrics import accuracy_score"
      ],
      "metadata": {
        "id": "djzxBzYZYw3m"
      }
    },
    {
      "cell_type": "code",
      "source": [
        "df.isnull().values.any()"
      ],
      "metadata": {
        "execution": {
          "iopub.status.busy": "2022-09-20T04:58:41.152895Z",
          "iopub.execute_input": "2022-09-20T04:58:41.153332Z",
          "iopub.status.idle": "2022-09-20T04:58:41.162018Z",
          "shell.execute_reply.started": "2022-09-20T04:58:41.153292Z",
          "shell.execute_reply": "2022-09-20T04:58:41.160790Z"
        },
        "trusted": true,
        "id": "bdQx9gA-Yw3m",
        "outputId": "33d4a036-ccce-47ba-facd-3724f842c7a3"
      },
      "execution_count": null,
      "outputs": [
        {
          "execution_count": 5,
          "output_type": "execute_result",
          "data": {
            "text/plain": "False"
          },
          "metadata": {}
        }
      ]
    },
    {
      "cell_type": "code",
      "source": [
        "df.info()"
      ],
      "metadata": {
        "execution": {
          "iopub.status.busy": "2022-09-20T04:59:02.775182Z",
          "iopub.execute_input": "2022-09-20T04:59:02.776774Z",
          "iopub.status.idle": "2022-09-20T04:59:02.804071Z",
          "shell.execute_reply.started": "2022-09-20T04:59:02.776710Z",
          "shell.execute_reply": "2022-09-20T04:59:02.802860Z"
        },
        "trusted": true,
        "id": "BbHlcQCQYw3n",
        "outputId": "271ab99f-c85e-4a4d-c7b1-9611ec5f2af9"
      },
      "execution_count": null,
      "outputs": [
        {
          "name": "stdout",
          "text": "<class 'pandas.core.frame.DataFrame'>\nRangeIndex: 768 entries, 0 to 767\nData columns (total 9 columns):\n #   Column                    Non-Null Count  Dtype  \n---  ------                    --------------  -----  \n 0   Pregnancies               768 non-null    int64  \n 1   Glucose                   768 non-null    int64  \n 2   BloodPressure             768 non-null    int64  \n 3   SkinThickness             768 non-null    int64  \n 4   Insulin                   768 non-null    int64  \n 5   BMI                       768 non-null    float64\n 6   DiabetesPedigreeFunction  768 non-null    float64\n 7   Age                       768 non-null    int64  \n 8   Outcome                   768 non-null    int64  \ndtypes: float64(2), int64(7)\nmemory usage: 54.1 KB\n",
          "output_type": "stream"
        }
      ]
    },
    {
      "cell_type": "code",
      "source": [
        "x=df.iloc[:,:-1].values\n",
        "y=df.iloc[:,-1].values"
      ],
      "metadata": {
        "execution": {
          "iopub.status.busy": "2022-09-20T04:59:52.621481Z",
          "iopub.execute_input": "2022-09-20T04:59:52.622045Z",
          "iopub.status.idle": "2022-09-20T04:59:52.632015Z",
          "shell.execute_reply.started": "2022-09-20T04:59:52.621996Z",
          "shell.execute_reply": "2022-09-20T04:59:52.630805Z"
        },
        "trusted": true,
        "id": "EKhjtf-4Yw3n"
      },
      "execution_count": null,
      "outputs": []
    },
    {
      "cell_type": "code",
      "source": [
        "print(x)"
      ],
      "metadata": {
        "execution": {
          "iopub.status.busy": "2022-09-20T04:59:58.996812Z",
          "iopub.execute_input": "2022-09-20T04:59:58.997194Z",
          "iopub.status.idle": "2022-09-20T04:59:59.003608Z",
          "shell.execute_reply.started": "2022-09-20T04:59:58.997163Z",
          "shell.execute_reply": "2022-09-20T04:59:59.002690Z"
        },
        "trusted": true,
        "id": "19DC13SJYw3n",
        "outputId": "6dc157d4-c9b1-4bd5-d5b4-395d464bfced"
      },
      "execution_count": null,
      "outputs": [
        {
          "name": "stdout",
          "text": "[[  6.    148.     72.    ...  33.6     0.627  50.   ]\n [  1.     85.     66.    ...  26.6     0.351  31.   ]\n [  8.    183.     64.    ...  23.3     0.672  32.   ]\n ...\n [  5.    121.     72.    ...  26.2     0.245  30.   ]\n [  1.    126.     60.    ...  30.1     0.349  47.   ]\n [  1.     93.     70.    ...  30.4     0.315  23.   ]]\n",
          "output_type": "stream"
        }
      ]
    },
    {
      "cell_type": "code",
      "source": [
        "print(y)"
      ],
      "metadata": {
        "execution": {
          "iopub.status.busy": "2022-09-20T05:00:14.388367Z",
          "iopub.execute_input": "2022-09-20T05:00:14.388785Z",
          "iopub.status.idle": "2022-09-20T05:00:14.397071Z",
          "shell.execute_reply.started": "2022-09-20T05:00:14.388749Z",
          "shell.execute_reply": "2022-09-20T05:00:14.395472Z"
        },
        "trusted": true,
        "id": "-VT3z5_hYw3o",
        "outputId": "9934f80f-9477-485c-8002-1b02fc5d67dd"
      },
      "execution_count": null,
      "outputs": [
        {
          "name": "stdout",
          "text": "[1 0 1 0 1 0 1 0 1 1 0 1 0 1 1 1 1 1 0 1 0 0 1 1 1 1 1 0 0 0 0 1 0 0 0 0 0\n 1 1 1 0 0 0 1 0 1 0 0 1 0 0 0 0 1 0 0 1 0 0 0 0 1 0 0 1 0 1 0 0 0 1 0 1 0\n 0 0 0 0 1 0 0 0 0 0 1 0 0 0 1 0 0 0 0 1 0 0 0 0 0 1 1 0 0 0 0 0 0 0 0 1 1\n 1 0 0 1 1 1 0 0 0 1 0 0 0 1 1 0 0 1 1 1 1 1 0 0 0 0 0 0 0 0 0 0 1 0 0 0 0\n 0 0 0 0 1 0 1 1 0 0 0 1 0 0 0 0 1 1 0 0 0 0 1 1 0 0 0 1 0 1 0 1 0 0 0 0 0\n 1 1 1 1 1 0 0 1 1 0 1 0 1 1 1 0 0 0 0 0 0 1 1 0 1 0 0 0 1 1 1 1 0 1 1 1 1\n 0 0 0 0 0 1 0 0 1 1 0 0 0 1 1 1 1 0 0 0 1 1 0 1 0 0 0 0 0 0 0 0 1 1 0 0 0\n 1 0 1 0 0 1 0 1 0 0 1 1 0 0 0 0 0 1 0 0 0 1 0 0 1 1 0 0 1 0 0 0 1 1 1 0 0\n 1 0 1 0 1 1 0 1 0 0 1 0 1 1 0 0 1 0 1 0 0 1 0 1 0 1 1 1 0 0 1 0 1 0 0 0 1\n 0 0 0 0 1 1 1 0 0 0 0 0 0 0 0 0 1 0 0 0 0 0 1 1 1 0 1 1 0 0 1 0 0 1 0 0 1\n 1 0 0 0 0 1 0 0 1 0 0 0 0 0 0 0 1 1 1 0 0 1 0 0 1 0 0 1 0 1 1 0 1 0 1 0 1\n 0 1 1 0 0 0 0 1 1 0 1 0 1 0 0 0 0 1 1 0 1 0 1 0 0 0 0 0 1 0 0 0 0 1 0 0 1\n 1 1 0 0 1 0 0 1 0 0 0 1 0 0 1 0 0 0 0 0 0 0 0 0 1 0 0 0 0 0 0 0 1 0 0 0 1\n 0 0 0 1 1 0 0 0 0 0 0 0 1 0 0 0 0 1 0 0 0 1 0 0 0 1 0 0 0 1 0 0 0 0 1 1 0\n 0 0 0 0 0 1 0 0 0 0 0 0 0 0 0 0 0 1 0 0 0 1 1 1 1 0 0 1 1 0 0 0 0 0 0 0 0\n 0 0 0 0 0 1 1 0 0 0 0 0 0 0 1 0 0 0 0 0 0 0 1 0 1 1 0 0 0 1 0 1 0 1 0 1 0\n 1 0 0 1 0 0 1 0 0 0 0 1 1 0 1 0 0 0 0 1 1 0 1 0 0 0 1 1 0 0 0 0 0 0 0 0 0\n 0 1 0 0 0 0 1 0 0 1 0 0 0 1 0 0 0 1 1 1 0 0 0 0 0 0 1 0 0 0 1 0 1 1 1 1 0\n 1 1 0 0 0 0 0 0 0 1 1 0 1 0 0 1 0 1 0 0 0 0 0 1 0 1 0 1 0 1 1 0 0 0 0 1 1\n 0 0 0 1 0 1 1 0 0 1 0 0 1 1 0 0 1 0 0 1 0 0 0 0 0 0 0 1 1 1 0 0 0 0 0 0 1\n 1 0 0 1 0 0 1 0 1 1 1 0 0 1 1 1 0 1 0 1 0 1 0 0 0 0 1 0]\n",
          "output_type": "stream"
        }
      ]
    },
    {
      "cell_type": "code",
      "source": [
        "from sklearn.model_selection import train_test_split\n",
        "x_train,x_test,y_train,y_test=train_test_split(x,y,test_size=0.2,random_state=1)"
      ],
      "metadata": {
        "execution": {
          "iopub.status.busy": "2022-09-20T05:01:04.967706Z",
          "iopub.execute_input": "2022-09-20T05:01:04.968123Z",
          "iopub.status.idle": "2022-09-20T05:01:05.456354Z",
          "shell.execute_reply.started": "2022-09-20T05:01:04.968087Z",
          "shell.execute_reply": "2022-09-20T05:01:05.455146Z"
        },
        "trusted": true,
        "id": "c6rTOBtDYw3o"
      },
      "execution_count": null,
      "outputs": []
    },
    {
      "cell_type": "code",
      "source": [
        "from sklearn.preprocessing import StandardScaler\n",
        "sc = StandardScaler()\n",
        "x_train[:,:]=sc.fit_transform(x_train[:,:])\n",
        "x_test[:,:]=sc.transform(x_test[:,:])"
      ],
      "metadata": {
        "execution": {
          "iopub.status.busy": "2022-09-20T05:03:24.688468Z",
          "iopub.execute_input": "2022-09-20T05:03:24.689743Z",
          "iopub.status.idle": "2022-09-20T05:03:24.697777Z",
          "shell.execute_reply.started": "2022-09-20T05:03:24.689689Z",
          "shell.execute_reply": "2022-09-20T05:03:24.696747Z"
        },
        "trusted": true,
        "id": "YMozkIz_Yw3o"
      },
      "execution_count": null,
      "outputs": []
    },
    {
      "cell_type": "code",
      "source": [
        "import math\n",
        "math.sqrt(len(x_test))"
      ],
      "metadata": {
        "execution": {
          "iopub.status.busy": "2022-09-20T05:05:27.219430Z",
          "iopub.execute_input": "2022-09-20T05:05:27.219869Z",
          "iopub.status.idle": "2022-09-20T05:05:27.225720Z",
          "shell.execute_reply.started": "2022-09-20T05:05:27.219834Z",
          "shell.execute_reply": "2022-09-20T05:05:27.224912Z"
        },
        "trusted": true,
        "id": "jEL5fZoWYw3p",
        "outputId": "60c818c8-7ee8-4003-acea-120753ff1bee"
      },
      "execution_count": null,
      "outputs": [
        {
          "execution_count": 16,
          "output_type": "execute_result",
          "data": {
            "text/plain": "12.409673645990857"
          },
          "metadata": {}
        }
      ]
    },
    {
      "cell_type": "code",
      "source": [
        "from sklearn.neighbors import KNeighborsClassifier\n",
        "classifier=KNeighborsClassifier(n_neighbors=11,metric='euclidean')\n",
        "classifier.fit(x_train,y_train)"
      ],
      "metadata": {
        "execution": {
          "iopub.status.busy": "2022-09-20T05:08:55.659466Z",
          "iopub.execute_input": "2022-09-20T05:08:55.659919Z",
          "iopub.status.idle": "2022-09-20T05:08:55.818383Z",
          "shell.execute_reply.started": "2022-09-20T05:08:55.659881Z",
          "shell.execute_reply": "2022-09-20T05:08:55.817054Z"
        },
        "trusted": true,
        "id": "dp4P0RnMYw3p",
        "outputId": "dc2d35d1-8c51-4ec6-85ee-28c1fe09eae4"
      },
      "execution_count": null,
      "outputs": [
        {
          "execution_count": 17,
          "output_type": "execute_result",
          "data": {
            "text/plain": "KNeighborsClassifier(metric='euclidean', n_neighbors=11)"
          },
          "metadata": {}
        }
      ]
    },
    {
      "cell_type": "code",
      "source": [
        "y_pred=classifier.predict(x_test)"
      ],
      "metadata": {
        "execution": {
          "iopub.status.busy": "2022-09-20T05:09:20.823901Z",
          "iopub.execute_input": "2022-09-20T05:09:20.824286Z",
          "iopub.status.idle": "2022-09-20T05:09:20.838488Z",
          "shell.execute_reply.started": "2022-09-20T05:09:20.824255Z",
          "shell.execute_reply": "2022-09-20T05:09:20.836924Z"
        },
        "trusted": true,
        "id": "RreZY4FhYw3p"
      },
      "execution_count": null,
      "outputs": []
    },
    {
      "cell_type": "code",
      "source": [
        "from sklearn.metrics import confusion_matrix\n",
        "cm=confusion_matrix(y_test,y_pred)\n",
        "print(cm)\n"
      ],
      "metadata": {
        "execution": {
          "iopub.status.busy": "2022-09-20T05:10:52.491526Z",
          "iopub.execute_input": "2022-09-20T05:10:52.492032Z",
          "iopub.status.idle": "2022-09-20T05:10:52.500936Z",
          "shell.execute_reply.started": "2022-09-20T05:10:52.491995Z",
          "shell.execute_reply": "2022-09-20T05:10:52.499637Z"
        },
        "trusted": true,
        "id": "zInd1tTqYw3p",
        "outputId": "8d381cdd-c5dc-45e3-ceb7-e678016a0e16"
      },
      "execution_count": null,
      "outputs": [
        {
          "name": "stdout",
          "text": "[[86 13]\n [22 33]]\n",
          "output_type": "stream"
        }
      ]
    }
  ]
}